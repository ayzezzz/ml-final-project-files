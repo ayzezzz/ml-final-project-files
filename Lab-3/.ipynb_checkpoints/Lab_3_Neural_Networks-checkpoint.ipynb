{
 "cells": [
  {
   "cell_type": "markdown",
   "metadata": {},
   "source": [
    "# Project Lab 3: Neural Networks for Handwritten Digit Recognition, Binary\n",
    "\n",
    "In this lab, you will use a neural network to recognize the hand-written digits zero and one."
   ]
  },
  {
   "cell_type": "markdown",
   "metadata": {
    "tags": []
   },
   "source": [
    "## 1 - Packages \n",
    "\n",
    "First, let's run the cell below to import all the packages that you will need during this assignment.\n",
    "- [numpy](https://numpy.org/) is the fundamental package for scientific computing with Python.\n",
    "- [matplotlib](http://matplotlib.org) is a popular library to plot graphs in Python.\n",
    "- [tensorflow](https://www.tensorflow.org/) a popular platform for machine learning."
   ]
  },
  {
   "cell_type": "code",
   "execution_count": null,
   "metadata": {
    "deletable": false,
    "editable": false
   },
   "outputs": [],
   "source": [
    "import numpy as np\n",
    "import tensorflow as tf\n",
    "from tensorflow.keras.models import Sequential\n",
    "from tensorflow.keras.layers import Dense\n",
    "import matplotlib.pyplot as plt\n",
    "\n",
    "%matplotlib inline\n",
    "\n",
    "import logging\n",
    "logging.getLogger(\"tensorflow\").setLevel(logging.ERROR)\n",
    "tf.autograph.set_verbosity(0)"
   ]
  },
  {
   "cell_type": "markdown",
   "metadata": {},
   "source": [
    "**Tensorflow and Keras**  \n",
    "Tensorflow is a machine learning package developed by Google. In 2019, Google integrated Keras into Tensorflow and released Tensorflow 2.0. Keras is a framework developed independently by François Chollet that creates a simple, layer-centric interface to Tensorflow. This lab will be using the Keras interface. "
   ]
  },
  {
   "cell_type": "markdown",
   "metadata": {
    "tags": []
   },
   "source": [
    "## 2 - Neural Networks\n",
    "\n",
    "You implemented logistic regression. This was extended to handle non-linear boundaries using polynomial regression. For even more complex scenarios such as image recognition, neural networks are preferred.\n",
    "\n",
    "### Problem Statement\n",
    "\n",
    "In this section, you will use a neural network to recognize two handwritten digits, zero and one. This is a binary classification task. Automated handwritten digit recognition is widely used today - from recognizing zip codes (postal codes) on mail envelopes to recognizing amounts written on bank checks. You will extend this network to recognize all 10 digits (0-9) in a future assignment. \n",
    "\n",
    "This exercise will show you how the methods you have learned can be used for this classification task.\n",
    "\n",
    "### Dataset\n",
    "\n",
    "You will start by loading the dataset for this task. \n",
    "- The `load_data()` function loads the data into variables `X` and `y`\n",
    "\n",
    "\n",
    "- The data set contains 1000 training examples of handwritten digits $^1$, here limited to zero and one.  \n",
    "\n",
    "    - Each training example is a 20-pixel x 20-pixel grayscale image of the digit. \n",
    "        - Each pixel is represented by a floating-point number indicating the grayscale intensity at that location. \n",
    "        - The 20 by 20 grid of pixels is “unrolled” into a 400-dimensional vector. \n",
    "        - Each training example becomes a single row in our data matrix `X`. \n",
    "        - This gives us a 1000 x 400 matrix `X` where every row is a training example of a handwritten digit image.\n",
    "\n",
    "$$X = \n",
    "\\left(\\begin{array}{cc} \n",
    "--- (x^{(1)}) --- \\\\\n",
    "--- (x^{(2)}) --- \\\\\n",
    "\\vdots \\\\ \n",
    "--- (x^{(m)}) --- \n",
    "\\end{array}\\right)$$ \n",
    "\n",
    "- The second part of the training set is a 1000 x 1 dimensional vector `y` that contains labels for the training set\n",
    "    - `y = 0` if the image is of the digit `0`, `y = 1` if the image is of the digit `1`.\n",
    "\n",
    "$^1$<sub> This is a subset of the MNIST handwritten digit dataset (http://yann.lecun.com/exdb/mnist/)</sub>"
   ]
  },
  {
   "cell_type": "markdown",
   "metadata": {},
   "source": [
    "<mark>Write code </mark>  for `load_data()` function."
   ]
  },
  {
   "cell_type": "code",
   "execution_count": null,
   "metadata": {
    "deletable": false,
    "editable": false
   },
   "outputs": [],
   "source": [
    "def load_data():\n",
    "\n",
    "    ### START CODE HERE ###\n",
    "\n",
    "\n",
    "    ### END CODE HERE ###\n",
    "\n",
    "    return X, y\n",
    "\n",
    "# load dataset\n",
    "X, y = load_data()"
   ]
  },
  {
   "cell_type": "markdown",
   "metadata": {},
   "source": [
    "### View the variables\n",
    "\n",
    "Let's get more familiar with your dataset.  \n",
    "- A good place to start is to print out each variable and see what it contains.\n",
    "\n",
    "\n",
    "<mark>Write code </mark> that prints \n",
    "\n",
    "- first element of X\n",
    "- first element of y\n",
    "- last element of y"
   ]
  },
  {
   "cell_type": "code",
   "execution_count": null,
   "metadata": {
    "deletable": false,
    "editable": false
   },
   "outputs": [],
   "source": [
    "### START CODE HERE ###\n",
    "\n",
    "\n",
    "### END CODE HERE ###"
   ]
  },
  {
   "cell_type": "markdown",
   "metadata": {},
   "source": [
    "<details>\n",
    "  <summary><font size=\"3\"><b>\n",
    "  Expected Output (Click to Expand) \n",
    "  </b></font></summary>\n",
    "   \n",
    "```\n",
    "\n",
    "The first element of X is:  [ 0.00000000e+00  0.00000000e+00  0.00000000e+00  0.00000000e+00\n",
    "  0.00000000e+00  0.00000000e+00  0.00000000e+00  0.00000000e+00\n",
    "  0.00000000e+00  0.00000000e+00  0.00000000e+00  0.00000000e+00\n",
    "  0.00000000e+00  0.00000000e+00  0.00000000e+00  0.00000000e+00\n",
    "  0.00000000e+00  0.00000000e+00  0.00000000e+00  0.00000000e+00\n",
    "  0.00000000e+00  0.00000000e+00  0.00000000e+00  0.00000000e+00\n",
    "  0.00000000e+00  0.00000000e+00  0.00000000e+00  0.00000000e+00\n",
    "  0.00000000e+00  0.00000000e+00  0.00000000e+00  0.00000000e+00\n",
    "  0.00000000e+00  0.00000000e+00  0.00000000e+00  0.00000000e+00\n",
    "  0.00000000e+00  0.00000000e+00  0.00000000e+00  0.00000000e+00\n",
    "  0.00000000e+00  0.00000000e+00  0.00000000e+00  0.00000000e+00\n",
    "  0.00000000e+00  0.00000000e+00  0.00000000e+00  0.00000000e+00\n",
    "  0.00000000e+00  0.00000000e+00  0.00000000e+00  0.00000000e+00\n",
    "  0.00000000e+00  0.00000000e+00  0.00000000e+00  0.00000000e+00\n",
    "  0.00000000e+00  0.00000000e+00  0.00000000e+00  0.00000000e+00\n",
    "  0.00000000e+00  0.00000000e+00  0.00000000e+00  0.00000000e+00\n",
    "  0.00000000e+00  0.00000000e+00  0.00000000e+00  8.56059680e-06\n",
    "  1.94035948e-06 -7.37438725e-04 -8.13403799e-03 -1.86104473e-02\n",
    " -1.87412865e-02 -1.87572508e-02 -1.90963542e-02 -1.64039011e-02\n",
    " -3.78191381e-03  3.30347316e-04  1.27655229e-05  0.00000000e+00\n",
    "  0.00000000e+00  0.00000000e+00  0.00000000e+00  0.00000000e+00\n",
    "  0.00000000e+00  0.00000000e+00  1.16421569e-04  1.20052179e-04\n",
    " -1.40444581e-02 -2.84542484e-02  8.03826593e-02  2.66540339e-01\n",
    "  2.73853746e-01  2.78729541e-01  2.74293607e-01  2.24676403e-01\n",
    "  2.77562977e-02 -7.06315478e-03  2.34715414e-04  0.00000000e+00\n",
    "...\n",
    "  0.00000000e+00  0.00000000e+00  0.00000000e+00  0.00000000e+00\n",
    "  0.00000000e+00  0.00000000e+00  0.00000000e+00  0.00000000e+00]\n",
    "The first element of y is:  0\n",
    "The last element of y is:  1\n",
    "\n",
    "```\n",
    "</details>"
   ]
  },
  {
   "cell_type": "markdown",
   "metadata": {},
   "source": [
    "### Check the dimensions of your variables\n",
    "\n",
    "Another way to get familiar with your data is to view its dimensions. \n",
    "\n",
    "<mark>Write code </mark> that prints the shape of `X` and `y` and see how many training examples you have in your dataset."
   ]
  },
  {
   "cell_type": "code",
   "execution_count": null,
   "metadata": {
    "deletable": false,
    "editable": false
   },
   "outputs": [],
   "source": [
    "### START CODE HERE ###\n",
    "\n",
    "\n",
    "### END CODE HERE ###"
   ]
  },
  {
   "cell_type": "markdown",
   "metadata": {},
   "source": [
    "**Expected Output**\n",
    "```\n",
    "The shape of X is: (1000, 400)\n",
    "The shape of y is: (1000, 1)\n",
    "```"
   ]
  },
  {
   "cell_type": "markdown",
   "metadata": {},
   "source": [
    "### Visualizing the Data\n",
    "\n",
    "You will begin by visualizing a subset of the training set. \n",
    "- In the cell below, the code randomly selects 64 rows from `X`, maps each row back to a 20 pixel by 20 pixel grayscale image and displays the images together. \n",
    "- The label for each image is displayed above the image "
   ]
  },
  {
   "cell_type": "code",
   "execution_count": null,
   "metadata": {
    "deletable": false,
    "editable": false
   },
   "outputs": [],
   "source": [
    "import warnings\n",
    "warnings.simplefilter(action='ignore', category=FutureWarning)\n",
    "# You do not need to modify anything in this cell\n",
    "\n",
    "m, n = X.shape\n",
    "\n",
    "fig, axes = plt.subplots(8,8, figsize=(8,8))\n",
    "fig.tight_layout(pad=0.1)\n",
    "\n",
    "for i,ax in enumerate(axes.flat):\n",
    "    # Select random indices\n",
    "    random_index = np.random.randint(m)\n",
    "    \n",
    "    # Select rows corresponding to the random indices and\n",
    "    # reshape the image\n",
    "    X_random_reshaped = X[random_index].reshape((20,20)).T\n",
    "    \n",
    "    # Display the image\n",
    "    ax.imshow(X_random_reshaped, cmap='gray')\n",
    "    \n",
    "    # Display the label above the image\n",
    "    ax.set_title(y[random_index,0])\n",
    "    ax.set_axis_off()"
   ]
  },
  {
   "cell_type": "markdown",
   "metadata": {},
   "source": [
    "### Model representation\n",
    "\n",
    "The neural network you will use in this assignment is shown in the figure below. \n",
    "- This has three dense layers with sigmoid activations.\n",
    "    - Recall that our inputs are pixel values of digit images.\n",
    "    - Since the images are of size $20\\times20$, this gives us $400$ inputs  \n",
    "    \n",
    "<img src=\"images/neural-netwoeks-01.png\" width=\"744\" height=\"368\">"
   ]
  },
  {
   "cell_type": "markdown",
   "metadata": {},
   "source": [
    "- The parameters have dimensions that are sized for a neural network with $25$ units in layer 1, $15$ units in layer 2 and $1$ output unit in layer 3. \n",
    "\n",
    "    - The dimensions of these parameters are determined as follows:\n",
    "        - If network has $s_{in}$ units in a layer and $s_{out}$ units in the next layer, then \n",
    "            - $W$ will be of dimension $s_{in} \\times s_{out}$.\n",
    "            - $b$ will a vector with $s_{out}$ elements\n",
    "  \n",
    "    - The shapes of `W`, and `b`,  are \n",
    "        - layer1: The shape of `W1` is (400, 25) and the shape of `b1` is (25,)\n",
    "        - layer2: The shape of `W2` is (25, 15) and the shape of `b2` is: (15,)\n",
    "        - layer3: The shape of `W3` is (15, 1) and the shape of `b3` is: (1,)\n",
    ">**Note:** The bias vector `b` could be represented as a 1-D (n,) or 2-D (1,n) array. Tensorflow utilizes a 1-D representation and this lab will maintain that convention. \n",
    "               "
   ]
  },
  {
   "cell_type": "markdown",
   "metadata": {},
   "source": [
    "### Tensorflow Model Implementation\n",
    "\n",
    "Tensorflow models are built layer by layer. A layer's input dimensions ($s_{in}$ above) are calculated for you. \n",
    "\n",
    "You specify a layer's *output dimensions* and this determines the next layer's input dimension. \n",
    "\n",
    "The input dimension of the first layer is derived from the size of the input data specified in the `model.fit` statement. \n",
    "\n",
    ">**Note:** It is also possible to add an input layer that specifies the input dimension of the first layer. \n",
    "\n",
    "For example:  \n",
    "\n",
    "`tf.keras.Input(shape=(400,)),    #specify input shape`  \n",
    "\n",
    "We will include that here to illuminate some model sizing."
   ]
  },
  {
   "cell_type": "markdown",
   "metadata": {},
   "source": [
    "<mark>Complete the code </mark> below, using Keras [Sequential model](https://keras.io/guides/sequential_model/) and [Dense Layer](https://keras.io/api/layers/core_layers/dense/) with a sigmoid activation to construct the network described above."
   ]
  },
  {
   "cell_type": "code",
   "execution_count": null,
   "metadata": {
    "deletable": false
   },
   "outputs": [],
   "source": [
    "model = Sequential(\n",
    "    [               \n",
    "        tf.keras.Input(shape=(400,)),    #specify input size\n",
    "\n",
    "        ### START CODE HERE ### \n",
    "        \n",
    "        \n",
    "        ### END CODE HERE ### \n",
    "        \n",
    "    ], name = \"mymodel\" \n",
    ")                   \n"
   ]
  },
  {
   "cell_type": "code",
   "execution_count": null,
   "metadata": {
    "deletable": false,
    "editable": false
   },
   "outputs": [],
   "source": [
    "model.summary()"
   ]
  },
  {
   "cell_type": "markdown",
   "metadata": {},
   "source": [
    "<details>\n",
    "  <summary><font size=\"3\" color=\"white\"><b>Expected Output (Click to Expand) </b></font></summary>\n",
    "The `model.summary()` function displays a useful summary of the model. Because we have specified an input layer size, the shape of the weight and bias arrays are determined and the total number of parameters per layer can be shown. Note, the names of the layers may vary as they are auto-generated.  \n",
    "    \n",
    "    \n",
    "```\n",
    "Model: \"my_model\"\n",
    "_________________________________________________________________\n",
    "Layer (type)                 Output Shape              Param #   \n",
    "=================================================================\n",
    "dense (Dense)                (None, 25)                10025     \n",
    "_________________________________________________________________\n",
    "dense_1 (Dense)              (None, 15)                390       \n",
    "_________________________________________________________________\n",
    "dense_2 (Dense)              (None, 1)                 16        \n",
    "=================================================================\n",
    "Total params: 10,431\n",
    "Trainable params: 10,431\n",
    "Non-trainable params: 0\n",
    "_________________________________________________________________\n",
    "```\n",
    "\n",
    "</details>"
   ]
  },
  {
   "cell_type": "markdown",
   "metadata": {},
   "source": [
    "The parameter counts shown in the summary correspond to the number of elements in the weight and bias arrays as shown below."
   ]
  },
  {
   "cell_type": "code",
   "execution_count": null,
   "metadata": {
    "deletable": false,
    "editable": false
   },
   "outputs": [],
   "source": [
    "L1_num_params = 400 * 25 + 25  # W1 parameters  + b1 parameters\n",
    "L2_num_params = 25 * 15 + 15   # W2 parameters  + b2 parameters\n",
    "L3_num_params = 15 * 1 + 1     # W3 parameters  + b3 parameters\n",
    "print(\"L1 params = \", L1_num_params, \", L2 params = \", L2_num_params, \",  L3 params = \", L3_num_params )"
   ]
  },
  {
   "cell_type": "markdown",
   "metadata": {},
   "source": [
    "We can examine details of the model by first extracting the layers with `model.layers` and then extracting the weights with `layerx.get_weights()` as shown below."
   ]
  },
  {
   "cell_type": "code",
   "execution_count": null,
   "metadata": {
    "deletable": false,
    "editable": false
   },
   "outputs": [],
   "source": [
    "[layer1, layer2, layer3] = model.layers"
   ]
  },
  {
   "cell_type": "code",
   "execution_count": null,
   "metadata": {
    "deletable": false,
    "editable": false
   },
   "outputs": [],
   "source": [
    "#### Examine Weights shapes\n",
    "W1,b1 = layer1.get_weights()\n",
    "W2,b2 = layer2.get_weights()\n",
    "W3,b3 = layer3.get_weights()\n",
    "print(f\"W1 shape = {W1.shape}, b1 shape = {b1.shape}\")\n",
    "print(f\"W2 shape = {W2.shape}, b2 shape = {b2.shape}\")\n",
    "print(f\"W3 shape = {W3.shape}, b3 shape = {b3.shape}\")"
   ]
  },
  {
   "cell_type": "markdown",
   "metadata": {},
   "source": [
    "**Expected Output**\n",
    "```\n",
    "W1 shape = (400, 25), b1 shape = (25,)  \n",
    "W2 shape = (25, 15), b2 shape = (15,)  \n",
    "W3 shape = (15, 1), b3 shape = (1,)\n",
    "```"
   ]
  },
  {
   "cell_type": "markdown",
   "metadata": {},
   "source": [
    "`xx.get_weights` returns a NumPy array. You can also access the weights directly in their tensor form. Note the shape of the tensors in the final layer."
   ]
  },
  {
   "cell_type": "code",
   "execution_count": null,
   "metadata": {
    "deletable": false,
    "editable": false
   },
   "outputs": [],
   "source": [
    "print(model.layers[2].weights)"
   ]
  },
  {
   "cell_type": "markdown",
   "metadata": {},
   "source": [
    "<mark>Write code </mark> that will define a loss function and run gradient descent to fit the weights of the model to the training data.\n",
    "\n",
    "- Use binary classification loss function\n",
    "- Use `Adam` optimizer with parameter 0.001"
   ]
  },
  {
   "cell_type": "code",
   "execution_count": null,
   "metadata": {
    "deletable": false,
    "editable": false,
    "scrolled": true
   },
   "outputs": [],
   "source": [
    "### START CODE HERE ###\n",
    "\n",
    "\n",
    "### END CODE HERE ###"
   ]
  },
  {
   "cell_type": "markdown",
   "metadata": {},
   "source": [
    "<details>\n",
    "  <summary><font size=\"3\" color=\"white\"><b>\n",
    "  Expected Output (Click to Expand) \n",
    "  </b></font></summary>\n",
    "   \n",
    "```\n",
    "Epoch 1/20\n",
    "32/32 ━━━━━━━━━━━━━━━━━━━━ 1s 1ms/step - loss: 0.6755\n",
    "Epoch 2/20\n",
    "32/32 ━━━━━━━━━━━━━━━━━━━━ 0s 807us/step - loss: 0.5148\n",
    "Epoch 3/20\n",
    "32/32 ━━━━━━━━━━━━━━━━━━━━ 0s 839us/step - loss: 0.3667\n",
    "Epoch 4/20\n",
    "32/32 ━━━━━━━━━━━━━━━━━━━━ 0s 903us/step - loss: 0.2484 \n",
    "Epoch 5/20\n",
    "32/32 ━━━━━━━━━━━━━━━━━━━━ 0s 849us/step - loss: 0.1765\n",
    "Epoch 6/20\n",
    "32/32 ━━━━━━━━━━━━━━━━━━━━ 0s 794us/step - loss: 0.1312\n",
    "Epoch 7/20\n",
    "32/32 ━━━━━━━━━━━━━━━━━━━━ 0s 726us/step - loss: 0.1047 \n",
    "Epoch 8/20\n",
    "32/32 ━━━━━━━━━━━━━━━━━━━━ 0s 742us/step - loss: 0.0847 \n",
    "Epoch 9/20\n",
    "32/32 ━━━━━━━━━━━━━━━━━━━━ 0s 742us/step - loss: 0.0815\n",
    "Epoch 10/20\n",
    "32/32 ━━━━━━━━━━━━━━━━━━━━ 0s 742us/step - loss: 0.0621\n",
    "Epoch 11/20\n",
    "32/32 ━━━━━━━━━━━━━━━━━━━━ 0s 903us/step - loss: 0.0538\n",
    "Epoch 12/20\n",
    "32/32 ━━━━━━━━━━━━━━━━━━━━ 0s 710us/step - loss: 0.0451\n",
    "Epoch 13/20\n",
    "...\n",
    "Epoch 19/20\n",
    "32/32 ━━━━━━━━━━━━━━━━━━━━ 0s 710us/step - loss: 0.0299\n",
    "Epoch 20/20\n",
    "32/32 ━━━━━━━━━━━━━━━━━━━━ 0s 806us/step - loss: 0.0205\n",
    "\n",
    "```\n",
    "</details>"
   ]
  },
  {
   "cell_type": "markdown",
   "metadata": {},
   "source": [
    "### Prediction \n",
    "To run the model on an example to make a prediction, we can use [Keras `predict`](https://www.tensorflow.org/api_docs/python/tf/keras/Model). \n",
    "\n",
    "Note : The input to `predict` is an array so the single example must be reshaped to two dimensional.\n",
    "\n",
    "- <mark>Write code </mark> that predicts for X[0]"
   ]
  },
  {
   "cell_type": "code",
   "execution_count": null,
   "metadata": {
    "deletable": false,
    "editable": false
   },
   "outputs": [],
   "source": [
    "### START CODE HERE ###\n",
    "\n",
    "\n",
    "\n",
    "### END CODE HERE ###\n",
    "\n",
    "print(f\" predicting : {prediction_for_X0}\")"
   ]
  },
  {
   "cell_type": "markdown",
   "metadata": {},
   "source": [
    "**Expected Output**\n",
    "```\n",
    "1/1 ━━━━━━━━━━━━━━━━━━━━ 0s 17ms/step\n",
    " predicting a zero: [[0.0134697]]\n",
    "```"
   ]
  },
  {
   "cell_type": "markdown",
   "metadata": {},
   "source": [
    "- <mark>Write code </mark> that predicts for X[500]"
   ]
  },
  {
   "cell_type": "code",
   "execution_count": null,
   "metadata": {},
   "outputs": [],
   "source": [
    "### START CODE HERE ###\n",
    "\n",
    "\n",
    "### END CODE HERE ###\n",
    "\n",
    "print(f\" predicting :  {prediction_for_X500}\")"
   ]
  },
  {
   "cell_type": "markdown",
   "metadata": {},
   "source": [
    "**Expected Output**\n",
    "```\n",
    "1/1 ━━━━━━━━━━━━━━━━━━━━ 0s 19ms/step\n",
    " predicting a one:  [[0.97848195]]\n",
    "```"
   ]
  },
  {
   "cell_type": "markdown",
   "metadata": {},
   "source": [
    "### Final Prediction\n",
    "\n",
    "The output of the model is interpreted as a probability. \n",
    "\n",
    "In the first example above, the input is a zero. The model predicts the probability that the input is a one is nearly zero. \n",
    "\n",
    "In the second example, the input is a one. The model predicts the probability that the input is a one is nearly one.\n",
    "\n",
    "As in the case of logistic regression, the probability is compared to a threshold to make a **final prediction**.\n",
    "\n",
    "<mark>Write code </mark>  for final prediction for for X[0]  and for X[500]\n",
    "\n",
    "> Note: threshold is 0.5"
   ]
  },
  {
   "cell_type": "code",
   "execution_count": null,
   "metadata": {
    "deletable": false,
    "editable": false
   },
   "outputs": [],
   "source": [
    "### START CODE HERE ###\n",
    "\n",
    "\n",
    "### END CODE HERE ###"
   ]
  },
  {
   "cell_type": "markdown",
   "metadata": {},
   "source": [
    "**Expected Output**\n",
    "```\n",
    "final prediction for X[0] after threshold: 1\n",
    "final prediction for X[500] after threshold: 0\n",
    "```"
   ]
  },
  {
   "cell_type": "markdown",
   "metadata": {},
   "source": [
    "Let's compare the predictions vs the labels for a random sample of 64 digits. This takes a moment to run."
   ]
  },
  {
   "cell_type": "code",
   "execution_count": null,
   "metadata": {
    "deletable": false,
    "editable": false
   },
   "outputs": [],
   "source": [
    "import warnings\n",
    "warnings.simplefilter(action='ignore', category=FutureWarning)\n",
    "# You do not need to modify anything in this cell\n",
    "\n",
    "m, n = X.shape\n",
    "\n",
    "fig, axes = plt.subplots(8,8, figsize=(8,8))\n",
    "fig.tight_layout(pad=0.1,rect=[0, 0.03, 1, 0.92]) #[left, bottom, right, top]\n",
    "\n",
    "for i,ax in enumerate(axes.flat):\n",
    "    # Select random indices\n",
    "    random_index = np.random.randint(m)\n",
    "    \n",
    "    # Select rows corresponding to the random indices and\n",
    "    # reshape the image\n",
    "    X_random_reshaped = X[random_index].reshape((20,20)).T\n",
    "    \n",
    "    # Display the image\n",
    "    ax.imshow(X_random_reshaped, cmap='gray')\n",
    "    \n",
    "    # Predict using the Neural Network\n",
    "    prediction = model.predict(X[random_index].reshape(1,400))\n",
    "    if prediction >= 0.5:\n",
    "        yhat = 1\n",
    "    else:\n",
    "        yhat = 0\n",
    "    \n",
    "    # Display the label above the image\n",
    "    ax.set_title(f\"{y[random_index,0]},{yhat}\")\n",
    "    ax.set_axis_off()\n",
    "fig.suptitle(\"Label, yhat\", fontsize=16)\n",
    "plt.show()"
   ]
  },
  {
   "cell_type": "markdown",
   "metadata": {},
   "source": [
    "**Congratulations!**\n",
    "You have successfully built and utilized a neural network."
   ]
  }
 ],
 "metadata": {
  "dl_toc_settings": {
   "rndtag": "89367"
  },
  "kernelspec": {
   "display_name": "ml_c1w2_lab",
   "language": "python",
   "name": "python3"
  },
  "language_info": {
   "codemirror_mode": {
    "name": "ipython",
    "version": 3
   },
   "file_extension": ".py",
   "mimetype": "text/x-python",
   "name": "python",
   "nbconvert_exporter": "python",
   "pygments_lexer": "ipython3",
   "version": "3.9.20"
  }
 },
 "nbformat": 4,
 "nbformat_minor": 4
}
